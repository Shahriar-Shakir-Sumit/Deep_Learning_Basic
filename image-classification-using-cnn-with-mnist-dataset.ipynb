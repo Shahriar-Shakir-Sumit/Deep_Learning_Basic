{
 "cells": [
  {
   "cell_type": "code",
   "execution_count": 1,
   "id": "510dea3a",
   "metadata": {
    "_cell_guid": "b1076dfc-b9ad-4769-8c92-a6c4dae69d19",
    "_uuid": "8f2839f25d086af736a60e9eeb907d3b93b6e0e5",
    "execution": {
     "iopub.execute_input": "2023-08-16T12:16:15.163787Z",
     "iopub.status.busy": "2023-08-16T12:16:15.162712Z",
     "iopub.status.idle": "2023-08-16T12:16:15.178119Z",
     "shell.execute_reply": "2023-08-16T12:16:15.177027Z"
    },
    "papermill": {
     "duration": 0.025922,
     "end_time": "2023-08-16T12:16:15.180589",
     "exception": false,
     "start_time": "2023-08-16T12:16:15.154667",
     "status": "completed"
    },
    "tags": []
   },
   "outputs": [],
   "source": [
    "# This Python 3 environment comes with many helpful analytics libraries installed\n",
    "# It is defined by the kaggle/python Docker image: https://github.com/kaggle/docker-python\n",
    "# For example, here's several helpful packages to load\n",
    "\n",
    "import numpy as np # linear algebra\n",
    "import pandas as pd # data processing, CSV file I/O (e.g. pd.read_csv)\n",
    "\n",
    "# Input data files are available in the read-only \"../input/\" directory\n",
    "# For example, running this (by clicking run or pressing Shift+Enter) will list all files under the input directory\n",
    "\n",
    "import os\n",
    "for dirname, _, filenames in os.walk('/kaggle/input'):\n",
    "    for filename in filenames:\n",
    "        print(os.path.join(dirname, filename))\n",
    "\n",
    "# You can write up to 20GB to the current directory (/kaggle/working/) that gets preserved as output when you create a version using \"Save & Run All\" \n",
    "# You can also write temporary files to /kaggle/temp/, but they won't be saved outside of the current session"
   ]
  },
  {
   "cell_type": "markdown",
   "id": "82a2f070",
   "metadata": {
    "papermill": {
     "duration": 0.003832,
     "end_time": "2023-08-16T12:16:15.188777",
     "exception": false,
     "start_time": "2023-08-16T12:16:15.184945",
     "status": "completed"
    },
    "tags": []
   },
   "source": [
    "# Import necessary libraries "
   ]
  },
  {
   "cell_type": "code",
   "execution_count": 2,
   "id": "8a643fda",
   "metadata": {
    "execution": {
     "iopub.execute_input": "2023-08-16T12:16:15.198884Z",
     "iopub.status.busy": "2023-08-16T12:16:15.198520Z",
     "iopub.status.idle": "2023-08-16T12:16:24.278172Z",
     "shell.execute_reply": "2023-08-16T12:16:24.277053Z"
    },
    "papermill": {
     "duration": 9.087892,
     "end_time": "2023-08-16T12:16:24.280686",
     "exception": false,
     "start_time": "2023-08-16T12:16:15.192794",
     "status": "completed"
    },
    "tags": []
   },
   "outputs": [
    {
     "name": "stderr",
     "output_type": "stream",
     "text": [
      "/opt/conda/lib/python3.10/site-packages/scipy/__init__.py:146: UserWarning: A NumPy version >=1.16.5 and <1.23.0 is required for this version of SciPy (detected version 1.23.5\n",
      "  warnings.warn(f\"A NumPy version >={np_minversion} and <{np_maxversion}\"\n",
      "/opt/conda/lib/python3.10/site-packages/tensorflow_io/python/ops/__init__.py:98: UserWarning: unable to load libtensorflow_io_plugins.so: unable to open file: libtensorflow_io_plugins.so, from paths: ['/opt/conda/lib/python3.10/site-packages/tensorflow_io/python/ops/libtensorflow_io_plugins.so']\n",
      "caused by: ['/opt/conda/lib/python3.10/site-packages/tensorflow_io/python/ops/libtensorflow_io_plugins.so: undefined symbol: _ZN3tsl6StatusC1EN10tensorflow5error4CodeESt17basic_string_viewIcSt11char_traitsIcEENS_14SourceLocationE']\n",
      "  warnings.warn(f\"unable to load libtensorflow_io_plugins.so: {e}\")\n",
      "/opt/conda/lib/python3.10/site-packages/tensorflow_io/python/ops/__init__.py:104: UserWarning: file system plugins are not loaded: unable to open file: libtensorflow_io.so, from paths: ['/opt/conda/lib/python3.10/site-packages/tensorflow_io/python/ops/libtensorflow_io.so']\n",
      "caused by: ['/opt/conda/lib/python3.10/site-packages/tensorflow_io/python/ops/libtensorflow_io.so: undefined symbol: _ZTVN10tensorflow13GcsFileSystemE']\n",
      "  warnings.warn(f\"file system plugins are not loaded: {e}\")\n"
     ]
    }
   ],
   "source": [
    "import tensorflow\n",
    "import matplotlib.pyplot as plt\n",
    "import numpy as np\n",
    "from tensorflow.keras.layers import Conv2D, Input, Dense, MaxPool2D, BatchNormalization, GlobalAvgPool2D\n",
    "from tensorflow.python.keras import activations"
   ]
  },
  {
   "cell_type": "markdown",
   "id": "d59a164f",
   "metadata": {
    "papermill": {
     "duration": 0.004062,
     "end_time": "2023-08-16T12:16:24.289580",
     "exception": false,
     "start_time": "2023-08-16T12:16:24.285518",
     "status": "completed"
    },
    "tags": []
   },
   "source": [
    "# Define the function to show some images from the dataset"
   ]
  },
  {
   "cell_type": "code",
   "execution_count": 3,
   "id": "5460ed30",
   "metadata": {
    "execution": {
     "iopub.execute_input": "2023-08-16T12:16:24.301516Z",
     "iopub.status.busy": "2023-08-16T12:16:24.299463Z",
     "iopub.status.idle": "2023-08-16T12:16:24.307381Z",
     "shell.execute_reply": "2023-08-16T12:16:24.306300Z"
    },
    "papermill": {
     "duration": 0.015806,
     "end_time": "2023-08-16T12:16:24.309649",
     "exception": false,
     "start_time": "2023-08-16T12:16:24.293843",
     "status": "completed"
    },
    "tags": []
   },
   "outputs": [],
   "source": [
    "def display_some_examples(examples, labels):\n",
    "    \n",
    "    plt.figure(figsize=(10,10))\n",
    "    \n",
    "    for i in range(25):\n",
    "        \n",
    "        idx = np.random.randint(0, examples.shape[0]-1)\n",
    "        img = examples[idx]\n",
    "        label = labels[idx]\n",
    "        \n",
    "        plt.subplot(5,5, i+1)\n",
    "        plt.title(str(label))\n",
    "        plt.tight_layout()\n",
    "        plt.imshow(img, cmap='gray')\n",
    "    # show the figure\n",
    "    plt.show()"
   ]
  },
  {
   "cell_type": "markdown",
   "id": "c965697a",
   "metadata": {
    "papermill": {
     "duration": 0.003995,
     "end_time": "2023-08-16T12:16:24.317770",
     "exception": false,
     "start_time": "2023-08-16T12:16:24.313775",
     "status": "completed"
    },
    "tags": []
   },
   "source": [
    "# Define CNN model"
   ]
  },
  {
   "cell_type": "code",
   "execution_count": 4,
   "id": "f1751de2",
   "metadata": {
    "execution": {
     "iopub.execute_input": "2023-08-16T12:16:24.327550Z",
     "iopub.status.busy": "2023-08-16T12:16:24.327176Z",
     "iopub.status.idle": "2023-08-16T12:16:27.692050Z",
     "shell.execute_reply": "2023-08-16T12:16:27.691039Z"
    },
    "papermill": {
     "duration": 3.384978,
     "end_time": "2023-08-16T12:16:27.707028",
     "exception": false,
     "start_time": "2023-08-16T12:16:24.322050",
     "status": "completed"
    },
    "tags": []
   },
   "outputs": [
    {
     "name": "stdout",
     "output_type": "stream",
     "text": [
      "Model: \"sequential\"\n",
      "_________________________________________________________________\n",
      " Layer (type)                Output Shape              Param #   \n",
      "=================================================================\n",
      " conv2d (Conv2D)             (None, 26, 26, 32)        320       \n",
      "                                                                 \n",
      " max_pooling2d (MaxPooling2D  (None, 13, 13, 32)       0         \n",
      " )                                                               \n",
      "                                                                 \n",
      " batch_normalization (BatchN  (None, 13, 13, 32)       128       \n",
      " ormalization)                                                   \n",
      "                                                                 \n",
      " conv2d_1 (Conv2D)           (None, 11, 11, 128)       36992     \n",
      "                                                                 \n",
      " batch_normalization_1 (Batc  (None, 11, 11, 128)      512       \n",
      " hNormalization)                                                 \n",
      "                                                                 \n",
      " global_average_pooling2d (G  (None, 128)              0         \n",
      " lobalAveragePooling2D)                                          \n",
      "                                                                 \n",
      " dense (Dense)               (None, 64)                8256      \n",
      "                                                                 \n",
      " dense_1 (Dense)             (None, 10)                650       \n",
      "                                                                 \n",
      "=================================================================\n",
      "Total params: 46,858\n",
      "Trainable params: 46,538\n",
      "Non-trainable params: 320\n",
      "_________________________________________________________________\n"
     ]
    }
   ],
   "source": [
    "# tensorflow.keras.Sequential\n",
    "model = tensorflow.keras.Sequential(\n",
    "    [\n",
    "        Input(shape=(28,28,1)),\n",
    "        Conv2D(32, (3,3), activation='relu'),\n",
    "        #Conv2D(64, (3,3), activation='relu'),\n",
    "        MaxPool2D(2,2),\n",
    "        BatchNormalization(),\n",
    "\n",
    "        Conv2D(128, (3,3), activation='relu'),\n",
    "        #MaxPool2D(2,2),\n",
    "        BatchNormalization(),\n",
    "\n",
    "        GlobalAvgPool2D(),\n",
    "        Dense(64, activation='relu'),\n",
    "        Dense(10, activation='softmax')\n",
    "    ]\n",
    ")\n",
    "\n",
    " #Print the model summary\n",
    "model.summary()"
   ]
  },
  {
   "cell_type": "markdown",
   "id": "4d13c898",
   "metadata": {
    "papermill": {
     "duration": 0.006706,
     "end_time": "2023-08-16T12:16:27.720831",
     "exception": false,
     "start_time": "2023-08-16T12:16:27.714125",
     "status": "completed"
    },
    "tags": []
   },
   "source": [
    "# Load dataset "
   ]
  },
  {
   "cell_type": "code",
   "execution_count": 5,
   "id": "3b71c1b0",
   "metadata": {
    "execution": {
     "iopub.execute_input": "2023-08-16T12:16:27.735955Z",
     "iopub.status.busy": "2023-08-16T12:16:27.735573Z",
     "iopub.status.idle": "2023-08-16T12:16:28.224622Z",
     "shell.execute_reply": "2023-08-16T12:16:28.222015Z"
    },
    "papermill": {
     "duration": 0.49948,
     "end_time": "2023-08-16T12:16:28.227157",
     "exception": false,
     "start_time": "2023-08-16T12:16:27.727677",
     "status": "completed"
    },
    "tags": []
   },
   "outputs": [
    {
     "name": "stdout",
     "output_type": "stream",
     "text": [
      "Downloading data from https://storage.googleapis.com/tensorflow/tf-keras-datasets/mnist.npz\n",
      "11490434/11490434 [==============================] - 0s 0us/step\n",
      "x_train.shape =  (60000, 28, 28)\n",
      "y_train.shape =  (60000,)\n",
      "x_test.shape =  (10000, 28, 28)\n",
      "y_test.shape =  (10000,)\n"
     ]
    }
   ],
   "source": [
    "\n",
    "if __name__=='__main__':\n",
    "    \n",
    "    (x_train, y_train), (x_test, y_test) = tensorflow.keras.datasets.mnist.load_data()\n",
    "    # summarize loaded dataset\n",
    "    print(\"x_train.shape = \", x_train.shape)\n",
    "    print(\"y_train.shape = \", y_train.shape)\n",
    "    print(\"x_test.shape = \", x_test.shape)\n",
    "    print(\"y_test.shape = \", y_test.shape)\n",
    "    \n",
    "    \n",
    "    #display_some_examples(x_train, y_train)"
   ]
  },
  {
   "cell_type": "markdown",
   "id": "f92ecfea",
   "metadata": {
    "papermill": {
     "duration": 0.00727,
     "end_time": "2023-08-16T12:16:28.242438",
     "exception": false,
     "start_time": "2023-08-16T12:16:28.235168",
     "status": "completed"
    },
    "tags": []
   },
   "source": [
    "# Reshape dataset"
   ]
  },
  {
   "cell_type": "code",
   "execution_count": 6,
   "id": "7260eb49",
   "metadata": {
    "execution": {
     "iopub.execute_input": "2023-08-16T12:16:28.259134Z",
     "iopub.status.busy": "2023-08-16T12:16:28.258761Z",
     "iopub.status.idle": "2023-08-16T12:16:28.347479Z",
     "shell.execute_reply": "2023-08-16T12:16:28.345999Z"
    },
    "papermill": {
     "duration": 0.101716,
     "end_time": "2023-08-16T12:16:28.351565",
     "exception": false,
     "start_time": "2023-08-16T12:16:28.249849",
     "status": "completed"
    },
    "tags": []
   },
   "outputs": [
    {
     "name": "stdout",
     "output_type": "stream",
     "text": [
      "x_train.shape =  (60000, 28, 28, 1)\n",
      "y_train.shape =  (60000,)\n",
      "x_test.shape =  (10000, 28, 28, 1)\n",
      "y_test.shape =  (10000,)\n"
     ]
    }
   ],
   "source": [
    "    # normalize the data\n",
    "    # convert from integers to floats\n",
    "    x_train = x_train.astype('float32') / 255 \n",
    "    x_test = x_test.astype('float32') / 255  \n",
    "\n",
    "    x_train = np.expand_dims(x_train, axis=-1)\n",
    "    x_test = np.expand_dims(x_test, axis=-1)\n",
    "    \n",
    "    #if False:\n",
    "    # summarize the reshaped dataset\n",
    "    print(\"x_train.shape = \", x_train.shape)\n",
    "    print(\"y_train.shape = \", y_train.shape)\n",
    "    print(\"x_test.shape = \", x_test.shape)\n",
    "    print(\"y_test.shape = \", y_test.shape)\n",
    "\n"
   ]
  },
  {
   "cell_type": "markdown",
   "id": "5ab17928",
   "metadata": {
    "papermill": {
     "duration": 0.00772,
     "end_time": "2023-08-16T12:16:28.367093",
     "exception": false,
     "start_time": "2023-08-16T12:16:28.359373",
     "status": "completed"
    },
    "tags": []
   },
   "source": [
    "# Model compilation,training and evaluation"
   ]
  },
  {
   "cell_type": "code",
   "execution_count": 7,
   "id": "3770e76b",
   "metadata": {
    "execution": {
     "iopub.execute_input": "2023-08-16T12:16:28.383662Z",
     "iopub.status.busy": "2023-08-16T12:16:28.383214Z",
     "iopub.status.idle": "2023-08-16T12:17:11.953520Z",
     "shell.execute_reply": "2023-08-16T12:17:11.952296Z"
    },
    "papermill": {
     "duration": 43.581677,
     "end_time": "2023-08-16T12:17:11.956177",
     "exception": false,
     "start_time": "2023-08-16T12:16:28.374500",
     "status": "completed"
    },
    "tags": []
   },
   "outputs": [
    {
     "name": "stdout",
     "output_type": "stream",
     "text": [
      "Epoch 1/3\n",
      "750/750 [==============================] - 16s 7ms/step - loss: 0.3438 - accuracy: 0.9026 - val_loss: 0.2571 - val_accuracy: 0.9230\n",
      "Epoch 2/3\n",
      "750/750 [==============================] - 4s 6ms/step - loss: 0.0850 - accuracy: 0.9749 - val_loss: 0.0830 - val_accuracy: 0.9742\n",
      "Epoch 3/3\n",
      "750/750 [==============================] - 4s 6ms/step - loss: 0.0617 - accuracy: 0.9813 - val_loss: 0.1162 - val_accuracy: 0.9653\n",
      "157/157 [==============================] - 1s 4ms/step - loss: 0.1240 - accuracy: 0.9599\n"
     ]
    },
    {
     "data": {
      "text/plain": [
       "[0.12398342043161392, 0.9599000215530396]"
      ]
     },
     "execution_count": 7,
     "metadata": {},
     "output_type": "execute_result"
    }
   ],
   "source": [
    "    y_train = tensorflow.keras.utils.to_categorical(y_train, 10)\n",
    "    y_test = tensorflow.keras.utils.to_categorical(y_test, 10)\n",
    "\n",
    "    #model = functional_model()\n",
    "    #model = MyCustomModel()\n",
    "    #model = seq_model() \n",
    "    model.compile(optimizer='adam', loss='categorical_crossentropy', metrics='accuracy')\n",
    "\n",
    "    # label : 2\n",
    "    # one hot encoding : 2\n",
    "\n",
    "    # model training\n",
    "    model.fit(x_train, y_train, batch_size=64, epochs=3, validation_split=0.2)\n",
    "    #Print the model summary\n",
    "    #model.summary()\n",
    "    #if False:\n",
    "    # Evaluation on test set\n",
    "    model.evaluate(x_test, y_test, batch_size=64)\n"
   ]
  }
 ],
 "metadata": {
  "kernelspec": {
   "display_name": "Python 3",
   "language": "python",
   "name": "python3"
  },
  "language_info": {
   "codemirror_mode": {
    "name": "ipython",
    "version": 3
   },
   "file_extension": ".py",
   "mimetype": "text/x-python",
   "name": "python",
   "nbconvert_exporter": "python",
   "pygments_lexer": "ipython3",
   "version": "3.10.12"
  },
  "papermill": {
   "default_parameters": {},
   "duration": 73.067088,
   "end_time": "2023-08-16T12:17:15.695205",
   "environment_variables": {},
   "exception": null,
   "input_path": "__notebook__.ipynb",
   "output_path": "__notebook__.ipynb",
   "parameters": {},
   "start_time": "2023-08-16T12:16:02.628117",
   "version": "2.4.0"
  }
 },
 "nbformat": 4,
 "nbformat_minor": 5
}
